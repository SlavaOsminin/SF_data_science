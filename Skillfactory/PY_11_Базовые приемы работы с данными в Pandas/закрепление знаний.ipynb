{
 "cells": [
  {
   "cell_type": "code",
   "execution_count": 84,
   "metadata": {},
   "outputs": [
    {
     "name": "stdout",
     "output_type": "stream",
     "text": [
      "<class 'pandas.core.frame.DataFrame'>\n",
      "RangeIndex: 300000 entries, 0 to 299999\n",
      "Data columns (total 14 columns):\n",
      " #   Column                   Non-Null Count   Dtype  \n",
      "---  ------                   --------------   -----  \n",
      " 0   starttime                300000 non-null  object \n",
      " 1   stoptime                 300000 non-null  object \n",
      " 2   start station id         299831 non-null  float64\n",
      " 3   start station name       299831 non-null  object \n",
      " 4   start station latitude   300000 non-null  float64\n",
      " 5   start station longitude  300000 non-null  float64\n",
      " 6   end station id           299831 non-null  float64\n",
      " 7   end station name         299831 non-null  object \n",
      " 8   end station latitude     300000 non-null  float64\n",
      " 9   end station longitude    300000 non-null  float64\n",
      " 10  bikeid                   300000 non-null  int64  \n",
      " 11  usertype                 300000 non-null  object \n",
      " 12  birth year               300000 non-null  int64  \n",
      " 13  gender                   300000 non-null  int64  \n",
      "dtypes: float64(6), int64(3), object(5)\n",
      "memory usage: 32.0+ MB\n"
     ]
    }
   ],
   "source": [
    "import pandas as pd\n",
    "citibike_tripdata_original = pd.read_csv('C:\\DS\\IDE\\Skillfactory\\Data\\citibike-tripdata.csv', sep=',')\n",
    "citibike_tripdata = citibike_tripdata_original.copy()\n",
    "citibike_tripdata.info()\n"
   ]
  },
  {
   "attachments": {},
   "cell_type": "markdown",
   "metadata": {},
   "source": [
    "* starttime — время начала поездки (дата, время);\n",
    "* stoptime — время окончания поездки (дата, время);\n",
    "* start station id — идентификатор стартовой стоянки;\n",
    "* start station name — название стартовой стоянки;\n",
    "* start station latitude, start station longitude — географическая широта и долгота стартовой стоянки;\n",
    "* end station id — идентификатор конечной стоянки;\n",
    "* end station name — название конечной стоянки;\n",
    "* end station latitude, end station longitude — географическая широта и долгота конечной стоянки;\n",
    "* bikeid — идентификатор велосипеда;\n",
    "* usertype — тип пользователя (Customer — клиент с подпиской на 24 часа или на три дня, Subscriber — подписчик с годовой арендой велосипеда);\n",
    "* birth year — год рождения клиента;\n",
    "* gender — пол клиента (0 — неизвестный, 1 — мужчина, 2 — женщина)."
   ]
  },
  {
   "attachments": {},
   "cell_type": "markdown",
   "metadata": {},
   "source": [
    "# Задание 6.1 \n",
    "### Сколько пропусков в столбце start station id?"
   ]
  },
  {
   "cell_type": "code",
   "execution_count": 85,
   "metadata": {},
   "outputs": [
    {
     "name": "stdout",
     "output_type": "stream",
     "text": [
      "<class 'pandas.core.frame.DataFrame'>\n",
      "RangeIndex: 300000 entries, 0 to 299999\n",
      "Data columns (total 14 columns):\n",
      " #   Column                   Non-Null Count   Dtype  \n",
      "---  ------                   --------------   -----  \n",
      " 0   starttime                300000 non-null  object \n",
      " 1   stoptime                 300000 non-null  object \n",
      " 2   start station id         299831 non-null  float64\n",
      " 3   start station name       299831 non-null  object \n",
      " 4   start station latitude   300000 non-null  float64\n",
      " 5   start station longitude  300000 non-null  float64\n",
      " 6   end station id           299831 non-null  float64\n",
      " 7   end station name         299831 non-null  object \n",
      " 8   end station latitude     300000 non-null  float64\n",
      " 9   end station longitude    300000 non-null  float64\n",
      " 10  bikeid                   300000 non-null  int64  \n",
      " 11  usertype                 300000 non-null  object \n",
      " 12  birth year               300000 non-null  int64  \n",
      " 13  gender                   300000 non-null  int64  \n",
      "dtypes: float64(6), int64(3), object(5)\n",
      "memory usage: 32.0+ MB\n"
     ]
    },
    {
     "data": {
      "text/plain": [
       "None"
      ]
     },
     "metadata": {},
     "output_type": "display_data"
    }
   ],
   "source": [
    "display(citibike_tripdata.info())"
   ]
  },
  {
   "attachments": {},
   "cell_type": "markdown",
   "metadata": {},
   "source": [
    "# Задание 6.2\n",
    "### Какой тип данных имеют столбцы starttime и stoptime?"
   ]
  },
  {
   "cell_type": "code",
   "execution_count": 86,
   "metadata": {},
   "outputs": [
    {
     "name": "stdout",
     "output_type": "stream",
     "text": [
      "<class 'pandas.core.frame.DataFrame'>\n",
      "RangeIndex: 300000 entries, 0 to 299999\n",
      "Data columns (total 14 columns):\n",
      " #   Column                   Non-Null Count   Dtype  \n",
      "---  ------                   --------------   -----  \n",
      " 0   starttime                300000 non-null  object \n",
      " 1   stoptime                 300000 non-null  object \n",
      " 2   start station id         299831 non-null  float64\n",
      " 3   start station name       299831 non-null  object \n",
      " 4   start station latitude   300000 non-null  float64\n",
      " 5   start station longitude  300000 non-null  float64\n",
      " 6   end station id           299831 non-null  float64\n",
      " 7   end station name         299831 non-null  object \n",
      " 8   end station latitude     300000 non-null  float64\n",
      " 9   end station longitude    300000 non-null  float64\n",
      " 10  bikeid                   300000 non-null  int64  \n",
      " 11  usertype                 300000 non-null  object \n",
      " 12  birth year               300000 non-null  int64  \n",
      " 13  gender                   300000 non-null  int64  \n",
      "dtypes: float64(6), int64(3), object(5)\n",
      "memory usage: 32.0+ MB\n"
     ]
    },
    {
     "data": {
      "text/plain": [
       "None"
      ]
     },
     "metadata": {},
     "output_type": "display_data"
    }
   ],
   "source": [
    "display(citibike_tripdata.info())"
   ]
  },
  {
   "attachments": {},
   "cell_type": "markdown",
   "metadata": {},
   "source": [
    "# Задание 6.3\n",
    "### Найдите идентификатор самой популярной стартовой стоянки. Запишите идентификатор в виде целого числа."
   ]
  },
  {
   "cell_type": "code",
   "execution_count": 87,
   "metadata": {},
   "outputs": [
    {
     "data": {
      "text/plain": [
       "281.0"
      ]
     },
     "metadata": {},
     "output_type": "display_data"
    }
   ],
   "source": [
    "display(citibike_tripdata['start station id'].value_counts().index[0])"
   ]
  },
  {
   "attachments": {},
   "cell_type": "markdown",
   "metadata": {},
   "source": []
  },
  {
   "attachments": {},
   "cell_type": "markdown",
   "metadata": {},
   "source": [
    "# Задание 6.4\n",
    "### Велосипед с каким идентификатором является самым популярным?"
   ]
  },
  {
   "cell_type": "code",
   "execution_count": 88,
   "metadata": {},
   "outputs": [
    {
     "data": {
      "text/plain": [
       "33887"
      ]
     },
     "metadata": {},
     "output_type": "display_data"
    }
   ],
   "source": [
    "display(citibike_tripdata['bikeid'].value_counts().index[0])"
   ]
  },
  {
   "attachments": {},
   "cell_type": "markdown",
   "metadata": {},
   "source": [
    "# Задание 6.5\n",
    "### Какой тип клиентов (столбец usertype) является преобладающим — Subscriber или Customer? В качестве ответа запишите долю клиентов преобладающего типа среди общего количества клиентов. Ответ округлите до двух знаков после точки-разделителя."
   ]
  },
  {
   "cell_type": "code",
   "execution_count": 89,
   "metadata": {},
   "outputs": [
    {
     "data": {
      "text/plain": [
       "usertype\n",
       "Subscriber    0.774007\n",
       "Customer      0.225993\n",
       "Name: proportion, dtype: float64"
      ]
     },
     "metadata": {},
     "output_type": "display_data"
    }
   ],
   "source": [
    "display(citibike_tripdata['usertype'].value_counts(normalize=True))"
   ]
  },
  {
   "attachments": {},
   "cell_type": "markdown",
   "metadata": {},
   "source": [
    "# Задание 6.6\n",
    "### Кто больше занимается велоспортом — мужчины или женщины? В ответ запишите число поездок для той группы, у которой их больше."
   ]
  },
  {
   "cell_type": "code",
   "execution_count": 90,
   "metadata": {},
   "outputs": [
    {
     "data": {
      "text/plain": [
       "gender\n",
       "1    183582\n",
       "2     74506\n",
       "0     41912\n",
       "Name: count, dtype: int64"
      ]
     },
     "metadata": {},
     "output_type": "display_data"
    }
   ],
   "source": [
    "display(citibike_tripdata['gender'].value_counts())\n"
   ]
  },
  {
   "attachments": {},
   "cell_type": "markdown",
   "metadata": {},
   "source": [
    "# Задание 6.7\n",
    "### Выберите утверждения,которые соответствуют нашим данным:"
   ]
  },
  {
   "attachments": {},
   "cell_type": "markdown",
   "metadata": {},
   "source": [
    "+***A*** - ***Число уникальных стартовых и конечных стоянок, которыми воспользовались клиенты, не равны друг другу.***\n",
    "\n",
    "***B*** - В рассматриваемые дни минимальный возраст клиента составлял 10 лет.\n",
    "\n",
    "+***C*** - ***Самой непопулярной стартовой стоянкой из тех, которыми воспользовались клиенты, является стоянка с названием \"Eastern Pkwy & Washington Ave\".***\n",
    "\n",
    "***D*** - Наибольшее количество поездок завершается на стоянке под названием \"Liberty Light Rail\".\n"
   ]
  },
  {
   "cell_type": "code",
   "execution_count": 91,
   "metadata": {},
   "outputs": [
    {
     "name": "stdout",
     "output_type": "stream",
     "text": [
      "759\n",
      "765\n"
     ]
    }
   ],
   "source": [
    "# A\n",
    "print(citibike_tripdata['start station id'].nunique())\n",
    "print(citibike_tripdata['end station id'].nunique())"
   ]
  },
  {
   "cell_type": "code",
   "execution_count": 92,
   "metadata": {},
   "outputs": [
    {
     "name": "stdout",
     "output_type": "stream",
     "text": [
      "16\n"
     ]
    }
   ],
   "source": [
    "# B\n",
    "citibike_tripdata['Start year'] = pd.to_datetime(citibike_tripdata['starttime'])\n",
    "years_start = citibike_tripdata['Start year'].dt.year\n",
    "a = years_start.mode().value_counts().index[0]\n",
    "b = citibike_tripdata['birth year'].max()\n",
    "print(a -b)"
   ]
  },
  {
   "cell_type": "code",
   "execution_count": 93,
   "metadata": {},
   "outputs": [
    {
     "name": "stdout",
     "output_type": "stream",
     "text": [
      "6\n"
     ]
    }
   ],
   "source": [
    "# C\n",
    "print(citibike_tripdata['start station name'].value_counts().min())"
   ]
  },
  {
   "cell_type": "code",
   "execution_count": 94,
   "metadata": {},
   "outputs": [
    {
     "name": "stdout",
     "output_type": "stream",
     "text": [
      "end station name\n",
      "West St & Chambers St          1963\n",
      "12 Ave & W 40 St               1909\n",
      "Pershing Square North          1850\n",
      "Central Park S & 6 Ave         1828\n",
      "E 17 St & Broadway             1804\n",
      "                               ... \n",
      "Exchange Place                    3\n",
      "Union St                          1\n",
      "Warren St                         1\n",
      "Montrose Ave & Bushwick Ave       1\n",
      "Liberty Light Rail                1\n",
      "Name: count, Length: 765, dtype: int64\n"
     ]
    }
   ],
   "source": [
    "# D\n",
    "print(citibike_tripdata['end station name'].value_counts())"
   ]
  },
  {
   "attachments": {},
   "cell_type": "markdown",
   "metadata": {},
   "source": [
    "# Задание 6.8\n",
    "### В первую очередь удалим лишнюю информацию из данных.\n",
    "### В наших данных присутствуют столбцы, которые дублируют информацию друг о друге: это столбцы с идентификатором и названием стартовой и конечной стоянки. Удалите признаки идентификаторов стоянок. Сколько столбцов осталось?"
   ]
  },
  {
   "cell_type": "code",
   "execution_count": 95,
   "metadata": {},
   "outputs": [],
   "source": [
    "citibike_tripdata = citibike_tripdata.drop('end station id', axis=1)\n",
    "citibike_tripdata = citibike_tripdata.drop('start station id', axis=1)\n",
    "citibike_tripdata = citibike_tripdata.drop('Start year', axis=1)"
   ]
  },
  {
   "cell_type": "code",
   "execution_count": 96,
   "metadata": {},
   "outputs": [
    {
     "data": {
      "text/plain": [
       "12"
      ]
     },
     "execution_count": 96,
     "metadata": {},
     "output_type": "execute_result"
    }
   ],
   "source": [
    "len(citibike_tripdata.columns)"
   ]
  },
  {
   "attachments": {},
   "cell_type": "markdown",
   "metadata": {},
   "source": [
    "# Задание 6.9\n",
    "### Замените признак birth year на более понятный признак возраста клиента age. Годом отсчёта возраста выберите 2018 год. Столбец birth year удалите из таблицы. Сколько поездок совершено клиентами старше 60 лет?"
   ]
  },
  {
   "cell_type": "code",
   "execution_count": 101,
   "metadata": {},
   "outputs": [],
   "source": [
    "citibike_tripdata['age'] = 2018 - citibike_tripdata['birth year']\n",
    "citibike_tripdata = citibike_tripdata.drop('birth year', axis=1)"
   ]
  },
  {
   "cell_type": "code",
   "execution_count": 117,
   "metadata": {},
   "outputs": [
    {
     "data": {
      "text/plain": [
       "age\n",
       "False    288163\n",
       "True      11837\n",
       "Name: count, dtype: int64"
      ]
     },
     "execution_count": 117,
     "metadata": {},
     "output_type": "execute_result"
    }
   ],
   "source": [
    "a = citibike_tripdata['age'] > 60\n",
    "a.value_counts()\n"
   ]
  },
  {
   "attachments": {},
   "cell_type": "markdown",
   "metadata": {},
   "source": [
    "# Задание 6.10\n",
    "### Создайте признак длительности поездки trip duration. Для этого вычислите интервал времени между временем окончания поездки (stoptime) и её началом (starttime). Сколько целых минут длилась поездка под индексом 3 в таблице?"
   ]
  },
  {
   "cell_type": "code",
   "execution_count": 121,
   "metadata": {},
   "outputs": [
    {
     "name": "stdout",
     "output_type": "stream",
     "text": [
      "0 days 00:07:16.837000\n"
     ]
    }
   ],
   "source": [
    "citibike_tripdata['starttime'] = pd.to_datetime(citibike_tripdata['starttime'])\n",
    "citibike_tripdata['stoptime'] = pd.to_datetime(citibike_tripdata['stoptime'])\n",
    "citibike_tripdata['trip duration'] = (citibike_tripdata['stoptime'] - citibike_tripdata['starttime'])\n",
    "print(citibike_tripdata.loc[3, 'trip duration'])"
   ]
  },
  {
   "attachments": {},
   "cell_type": "markdown",
   "metadata": {},
   "source": [
    "# Задание 6.11\n",
    "### Создайте «признак-мигалку» weekend, который равен 1, если поездка начиналась в выходной день (суббота или воскресенье), и 0 — в противном случае. Выясните, сколько поездок начиналось в выходные."
   ]
  },
  {
   "cell_type": "code",
   "execution_count": 122,
   "metadata": {},
   "outputs": [
    {
     "data": {
      "text/plain": [
       "115135"
      ]
     },
     "execution_count": 122,
     "metadata": {},
     "output_type": "execute_result"
    }
   ],
   "source": [
    "weekday = citibike_tripdata['starttime'].dt.dayofweek\n",
    "citibike_tripdata['weekend'] = weekday.apply(lambda x: 1 if x ==5 or x == 6 else 0)\n",
    "citibike_tripdata['weekend'].sum()"
   ]
  },
  {
   "attachments": {},
   "cell_type": "markdown",
   "metadata": {},
   "source": [
    "# Задание 6.12\n",
    "### Создайте признак времени суток поездки time_of_day. Время суток будем определять из часа начала поездки. Условимся, что:\n",
    "* поездка совершается ночью (night), если её час приходится на интервал от 0 (включительно) до 6 (включительно) часов;\n",
    "* поездка совершается утром (morning), если её час приходится на интервал от 6 (не включительно) до 12 (включительно) часов;\n",
    "* поездка совершается днём (day), если её час приходится на интервал от 12 (не включительно) до 18 (включительно) часов;\n",
    "* поездка совершается вечером (evening), если её час приходится на интервал от 18 (не включительно) до 23 часов (включительно).\n",
    "\n",
    "Во сколько раз количество поездок, совершённых днём, больше, чем количество поездок, совёршенных ночью, за представленный в данных период времени? Ответ округлите до целого числа."
   ]
  },
  {
   "cell_type": "code",
   "execution_count": 123,
   "metadata": {},
   "outputs": [
    {
     "name": "stdout",
     "output_type": "stream",
     "text": [
      "9\n"
     ]
    }
   ],
   "source": [
    "def get_time_of_day(time):\n",
    "    if 0 <= time <= 6:\n",
    "        return 'night'\n",
    "    elif 6 < time <= 12:\n",
    "        return 'morning'\n",
    "    elif 12 < time <= 18:\n",
    "        return 'day'\n",
    "    elif 18 < time <= 23:\n",
    "        return 'evening'\n",
    "    else:\n",
    "        return 'else'\n",
    "citibike_tripdata['time_of_day'] = citibike_tripdata['starttime'].dt.hour.apply(get_time_of_day)\n",
    "a = citibike_tripdata[citibike_tripdata['time_of_day'] == 'day'].shape[0]\n",
    "b = citibike_tripdata[citibike_tripdata['time_of_day'] == 'night'].shape[0]\n",
    "print(round(a / b))"
   ]
  }
 ],
 "metadata": {
  "kernelspec": {
   "display_name": "Python 3",
   "language": "python",
   "name": "python3"
  },
  "language_info": {
   "codemirror_mode": {
    "name": "ipython",
    "version": 3
   },
   "file_extension": ".py",
   "mimetype": "text/x-python",
   "name": "python",
   "nbconvert_exporter": "python",
   "pygments_lexer": "ipython3",
   "version": "3.11.3"
  },
  "orig_nbformat": 4
 },
 "nbformat": 4,
 "nbformat_minor": 2
}
