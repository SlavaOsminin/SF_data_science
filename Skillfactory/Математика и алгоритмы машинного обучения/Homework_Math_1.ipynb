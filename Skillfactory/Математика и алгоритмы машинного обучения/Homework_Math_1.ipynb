{
 "cells": [
  {
   "attachments": {},
   "cell_type": "markdown",
   "metadata": {},
   "source": [
    "Прежде чем проверять задания:\n",
    "- **Перезапустите ядро** (**restart the kernel**) (В меню, выбрать Ядро (Kernel) $\\rightarrow$ Перезапустить (Restart)\n",
    "- Затем **Выполнить все ячейки**  **run all cells** (В меню, выбрать Ячейка (Cell) $\\rightarrow$ Запустить все (Run All).\n",
    "\n",
    "Убедитесь, что заполнены все ячейки с комментарием \"НАЧАЛО ВАШЕГО РЕШЕНИЯ\".\n",
    "\n",
    "После ячеек с заданием следуют ячейки с проверкой с помощью assert.\n",
    "\n",
    "Если в коде есть ошибки, assert выведет уведомление об ошибке.\n",
    "\n",
    "Если в коде нет ошибок, assert отработает без вывода дополнительной информации."
   ]
  },
  {
   "attachments": {},
   "cell_type": "markdown",
   "metadata": {},
   "source": [
    "---"
   ]
  },
  {
   "attachments": {},
   "cell_type": "markdown",
   "metadata": {
    "deletable": false,
    "editable": false,
    "nbgrader": {
     "cell_type": "markdown",
     "checksum": "cab860d2da5a2d30d04d0cbdcfaf5ae9",
     "grade": false,
     "grade_id": "gfgdsdg",
     "locked": true,
     "schema_version": 3,
     "solution": false,
     "task": false
    },
    "tags": []
   },
   "source": [
    "## Импорт библиотек"
   ]
  },
  {
   "cell_type": "code",
   "execution_count": 1,
   "metadata": {
    "deletable": false,
    "editable": false,
    "nbgrader": {
     "cell_type": "code",
     "checksum": "4a97adf18cbf7d9242167540ed264dc2",
     "grade": false,
     "grade_id": "cell-3a9d1fb3",
     "locked": true,
     "schema_version": 3,
     "solution": false,
     "task": false
    },
    "tags": []
   },
   "outputs": [],
   "source": [
    "import numpy as np\n",
    "import sympy as sp\n",
    "import scipy.spatial.distance as ds"
   ]
  },
  {
   "attachments": {},
   "cell_type": "markdown",
   "metadata": {
    "deletable": false,
    "editable": false,
    "nbgrader": {
     "cell_type": "markdown",
     "checksum": "27073c52d5d542b96116f0b08e8d9587",
     "grade": false,
     "grade_id": "cell-bc02cf6bf1ffde",
     "locked": true,
     "schema_version": 3,
     "solution": false,
     "task": false
    },
    "tags": []
   },
   "source": [
    "# Задания на векторы"
   ]
  },
  {
   "attachments": {},
   "cell_type": "markdown",
   "metadata": {
    "deletable": false,
    "editable": false,
    "nbgrader": {
     "cell_type": "markdown",
     "checksum": "42e2f966d9ed695bbe319832aedde7e1",
     "grade": false,
     "grade_id": "cell-b40bdcf9629b9",
     "locked": true,
     "schema_version": 3,
     "solution": false,
     "task": false
    },
    "tags": []
   },
   "source": [
    "## Задание 1 (1 балл)\n",
    "\n",
    "Напишите код функции для вычисления L2-нормы одномерный np.array вектора с помощью numpy:"
   ]
  },
  {
   "cell_type": "code",
   "execution_count": 2,
   "metadata": {
    "deletable": false,
    "nbgrader": {
     "cell_type": "code",
     "checksum": "a293aac09bc1b1ddb5e16f687b7b6064",
     "grade": false,
     "grade_id": "l2_norm",
     "locked": false,
     "schema_version": 3,
     "solution": true,
     "task": false
    },
    "tags": []
   },
   "outputs": [],
   "source": [
    "def l2_norm(vector):\n",
    "\n",
    "    # НАЧАЛО ВАШЕГО РЕШЕНИЯ\n",
    "    length = np.linalg.norm(vector)\n",
    "    return length\n",
    "    # КОНЕЦ ВАШЕГО РЕШЕНИЯ\n",
    "   "
   ]
  },
  {
   "cell_type": "code",
   "execution_count": 3,
   "metadata": {
    "deletable": false,
    "editable": false,
    "nbgrader": {
     "cell_type": "code",
     "checksum": "46ec3e00456ee56737a7f13df4a7fb99",
     "grade": true,
     "grade_id": "l2_norm_test",
     "locked": true,
     "points": 1,
     "schema_version": 3,
     "solution": false,
     "task": false
    },
    "tags": []
   },
   "outputs": [],
   "source": [
    "# Тест 1: Вектор (1, 0, 0) имеет L2-норму 1.\n",
    "vector1 = np.array([1, 0, 0])\n",
    "assert l2_norm(vector1) == 1.0\n",
    "\n",
    "# Тест 2: Вектор (0, 1, 0) имеет L2-норму 1.\n",
    "vector2 = np.array([0, 1, 0])\n",
    "assert l2_norm(vector2) == 1.0\n",
    "\n",
    "# Тест 3: Вектор (1, 2, 3, 4, 5, 6, 7, 8, 9) имеет L2-норму sqrt(285).\n",
    "vector3 = np.array([1, 2, 3, 4, 5, 6, 7, 8, 9])\n",
    "assert l2_norm(vector3) == np.sqrt(285)\n",
    "\n",
    "# Тест 3: Вектор (0, 0, 1) имеет L2-норму 1.\n",
    "vector3 = np.array([0, 0, 1])\n",
    "assert l2_norm(vector3) == 1.0\n",
    "\n",
    "# Тест 4: Вектор (3, 4) имеет L2-норму 5.\n",
    "vector4 = np.array([3, 4])\n",
    "assert l2_norm(vector4) == 5.0\n",
    "\n",
    "# Тест 5: Вектор (-3, -4) имеет L2-норму 5.\n",
    "vector5 = np.array([-3, -4])\n",
    "assert l2_norm(vector5) == 5.0\n",
    "\n",
    "# Тест 6: Вектор (1, 1, 1) имеет L2-норму sqrt(3).\n",
    "vector6 = np.array([1, 1, 1])\n",
    "assert l2_norm(vector6) == np.sqrt(3)\n",
    "\n",
    "# Тест 7: Вектор (0, 0, 0) имеет L2-норму 0.\n",
    "vector7 = np.array([0, 0, 0])\n",
    "assert l2_norm(vector7) == 0.0\n",
    "\n",
    "# Тест 8: Вектор (1, 2, 3, 4, 5) имеет L2-норму sqrt(55).\n",
    "vector8 = np.array([1, 2, 3, 4, 5])\n",
    "assert l2_norm(vector8) == np.sqrt(55)\n",
    "\n",
    "# Тест 9: Вектор (1, 2, 3, 4, 5, 6) имеет L2-норму sqrt(91).\n",
    "vector9 = np.array([1, 2, 3, 4, 5, 6])\n",
    "assert l2_norm(vector9) == np.sqrt(91)\n",
    "\n",
    "# Тест 10: Вектор (1, 2, 3, 4, 5, 6, 7, 8, 9) имеет L2-норму sqrt(285).\n",
    "vector10 = np.array([1, 2, 3, 4, 5, 6, 7, 8, 9])\n",
    "assert l2_norm(vector10) == np.sqrt(285)"
   ]
  },
  {
   "attachments": {},
   "cell_type": "markdown",
   "metadata": {
    "deletable": false,
    "editable": false,
    "nbgrader": {
     "cell_type": "markdown",
     "checksum": "dfdce0cbac6b910579f060b83d30b8c0",
     "grade": false,
     "grade_id": "cell-938593drg6cc",
     "locked": true,
     "schema_version": 3,
     "solution": false,
     "task": false
    },
    "tags": []
   },
   "source": [
    "---\n",
    "## Задание 2 (1 балл)\n",
    "\n",
    "Напишите код функции, которая на вход принимает два одномерных np.array массива чисел и производит их сложение с помощью numpy. Если длины векторов не равны, функция должна вернуть None"
   ]
  },
  {
   "cell_type": "code",
   "execution_count": 4,
   "metadata": {
    "deletable": false,
    "nbgrader": {
     "cell_type": "code",
     "checksum": "388b13b4793a95c63e373a1d0aea80a3",
     "grade": false,
     "grade_id": "add_vectors",
     "locked": false,
     "schema_version": 3,
     "solution": true,
     "task": false
    },
    "tags": []
   },
   "outputs": [],
   "source": [
    "import numpy as np\n",
    "def add_vectors(arr1, arr2):\n",
    "    if len(arr1) != len(arr2):\n",
    "        return None\n",
    "    else:\n",
    "        return arr1 + arr2"
   ]
  },
  {
   "cell_type": "code",
   "execution_count": 5,
   "metadata": {
    "deletable": false,
    "editable": false,
    "nbgrader": {
     "cell_type": "code",
     "checksum": "f3394508a1f3caff3c86e9d1d224242f",
     "grade": true,
     "grade_id": "add_vectors_test",
     "locked": true,
     "points": 1,
     "schema_version": 3,
     "solution": false,
     "task": false
    },
    "tags": []
   },
   "outputs": [],
   "source": [
    "arr1 = np.array([1, 2, 3])\n",
    "arr2 = np.array([4, 5, 6])\n",
    "assert np.array_equal(add_vectors(arr1, arr2), np.array([5, 7, 9]))\n",
    "\n",
    "arr1 = np.array([1.5, 2.0, 3.5])\n",
    "arr2 = np.array([4.2, 5.7, 6.1])\n",
    "assert np.allclose(add_vectors(arr1, arr2), np.array([5.7, 7.7, 9.6]))\n",
    "\n",
    "arr1 = np.array([])\n",
    "arr2 = np.array([])\n",
    "assert np.array_equal(add_vectors(arr1, arr2), np.array([]))\n",
    "\n",
    "arr1 = np.array([-1, 2, -3])\n",
    "arr2 = np.array([4, -5, 6])\n",
    "assert np.array_equal(add_vectors(arr1, arr2), np.array([3, -3, 3]))\n",
    "\n",
    "arr1 = np.array([1, 2, 3])\n",
    "arr2 = np.array([4])\n",
    "assert np.array_equal(add_vectors(arr1, arr2), None)\n",
    "\n",
    "arr1 = np.array([1, 2, 3])\n",
    "arr2 = np.array([4, 5])\n",
    "assert np.array_equal(add_vectors(arr1, arr2), None)\n",
    "\n",
    "arr1 = np.array([1, 2, 3, 4, 5])\n",
    "arr2 = np.array([2, 4, 6, 8, 10])\n",
    "assert np.array_equal(add_vectors(arr1, arr2), np.array([3, 6, 9, 12, 15]))\n",
    "\n",
    "arr1 = np.array([1, 2, 3])\n",
    "arr2 = np.array([0, 0, 0])\n",
    "assert np.array_equal(add_vectors(arr1, arr2), arr1)\n",
    "\n",
    "arr1 = np.array([1, 2, 3])\n",
    "arr2 = np.array([-1, -2, -3])\n",
    "assert np.array_equal(add_vectors(arr1, arr2), np.array([0, 0, 0]))\n",
    "\n",
    "arr1 = np.array([1, 2, 3])\n",
    "arr2 = np.array([1, 2, 3])\n",
    "assert np.array_equal(add_vectors(arr1, arr2), np.array([2, 4, 6]))"
   ]
  },
  {
   "attachments": {},
   "cell_type": "markdown",
   "metadata": {
    "deletable": false,
    "editable": false,
    "nbgrader": {
     "cell_type": "markdown",
     "checksum": "1cc12d153b8e15179eb3084fcba91d6d",
     "grade": false,
     "grade_id": "cell-93859werh5c6cc",
     "locked": true,
     "schema_version": 3,
     "solution": false,
     "task": false
    },
    "tags": []
   },
   "source": [
    "---\n",
    "## Задание 3 (1 балл)\n",
    "\n",
    "Напишите код функции, которая на вход принимает два одномерных np.array массива чисел и вычисляет их скалярное произведение с помощью numpy. Если длины векторов не равны или векторы пустые, необходимо вернуть None"
   ]
  },
  {
   "cell_type": "code",
   "execution_count": 6,
   "metadata": {
    "deletable": false,
    "nbgrader": {
     "cell_type": "code",
     "checksum": "871f704998658dbb809c9c39ee61b90b",
     "grade": false,
     "grade_id": "scalar_product",
     "locked": false,
     "schema_version": 3,
     "solution": true,
     "task": false
    },
    "tags": []
   },
   "outputs": [],
   "source": [
    "def scalar_product(arr1, arr2):\n",
    "\n",
    "    # НАЧАЛО ВАШЕГО РЕШЕНИЯ\n",
    "    if len(arr1) != len(arr2):\n",
    "        return None\n",
    "    elif len(arr1) == len(arr2) == 0:\n",
    "        return None\n",
    "    else:\n",
    "        dot_product = np.dot(arr1, arr2)\n",
    "        return dot_product\n",
    "\n",
    "    # КОНЕЦ ВАШЕГО РЕШЕНИЯ\n",
    "    \n"
   ]
  },
  {
   "cell_type": "code",
   "execution_count": 7,
   "metadata": {
    "deletable": false,
    "editable": false,
    "nbgrader": {
     "cell_type": "code",
     "checksum": "dbffd27605d004a4b6f84f4a3ce24ce0",
     "grade": true,
     "grade_id": "scalar_product_test",
     "locked": true,
     "points": 1,
     "schema_version": 3,
     "solution": false,
     "task": false
    },
    "tags": []
   },
   "outputs": [],
   "source": [
    "a = np.array([1, 2, 3])\n",
    "b = np.array([4, 5, 6])\n",
    "assert scalar_product(a, b) == 32\n",
    "\n",
    "a = np.array([1, 0, 0])\n",
    "b = np.array([0, 1, 0])\n",
    "assert scalar_product(a, b) == 0\n",
    "\n",
    "a = np.array([1, 2, 3, 4, 5])\n",
    "b = np.array([5, 4, 3, 2, 1])\n",
    "assert scalar_product(a, b) == 35\n",
    "\n",
    "a = np.array([1, 2])\n",
    "b = np.array([4, 5, 6])\n",
    "assert scalar_product(a, b) is None\n",
    "\n",
    "a = np.array([-1, 2, -3])\n",
    "b = np.array([4, -5, 6])\n",
    "assert scalar_product(a, b) == -32\n",
    "\n",
    "a = np.array([0, 0, 0])\n",
    "b = np.array([4, 5, 6])\n",
    "assert scalar_product(a, b) == 0\n",
    "\n",
    "a = np.array([1, 2, 3])\n",
    "b = np.array([4, 5])\n",
    "assert scalar_product(a, b) is None\n",
    "\n",
    "a = np.array([])\n",
    "b = np.array([4, 5, 6])\n",
    "assert scalar_product(a, b) is None\n",
    "\n",
    "a = np.array([])\n",
    "b = np.array([])\n",
    "assert scalar_product(a, b) is None\n",
    "\n",
    "a = np.array([1])\n",
    "b = np.array([4])\n",
    "assert scalar_product(a, b) == 4"
   ]
  },
  {
   "attachments": {},
   "cell_type": "markdown",
   "metadata": {
    "deletable": false,
    "editable": false,
    "nbgrader": {
     "cell_type": "markdown",
     "checksum": "4f5a60c5049aad39de04cf4aaf579c7a",
     "grade": false,
     "grade_id": "cell-938593csghcc",
     "locked": true,
     "schema_version": 3,
     "solution": false,
     "task": false
    },
    "tags": []
   },
   "source": [
    "---\n",
    "## Задание 4 (1 балл)\n",
    "\n",
    "Напишите код функции, которая на вход принимает два одномерных np.array массива чисел и вычисляет косинусное расстояние между ними с помощью numpy. Если длины векторов не равны, или один из векторов пустой, необходимо вернуть None. В случае, если один из векторов нулевой, также нужно вернуть None"
   ]
  },
  {
   "cell_type": "code",
   "execution_count": 8,
   "metadata": {
    "deletable": false,
    "nbgrader": {
     "cell_type": "code",
     "checksum": "c5ed207c887635bdf63e1b9f09c8a4cd",
     "grade": false,
     "grade_id": "cosine_distance",
     "locked": false,
     "schema_version": 3,
     "solution": true,
     "task": false
    },
    "tags": []
   },
   "outputs": [],
   "source": [
    "def cosine_distance(arr1, arr2):\n",
    "\n",
    "    # НАЧАЛО ВАШЕГО РЕШЕНИЯ\n",
    "    \n",
    "    # Проверяем равны ли вектора, если нет возвращаем None\n",
    "    if len(arr1) != len(arr2):\n",
    "        return None\n",
    "    # Проверяем есть ли пустые вектора, если есть возвращаем None\n",
    "    elif len(arr1) == len(arr2) == 0:\n",
    "        return None\n",
    "    # Проверяем на нулевой вектор\n",
    "    elif len(set(arr1)) == 1:\n",
    "        if arr1[0] == 0:\n",
    "            return None\n",
    "        else:\n",
    "            cosin = 1 - ((np.dot(arr1, arr2))/((np.linalg.norm(arr1)) * (np.linalg.norm(arr2))))\n",
    "            return cosin\n",
    "        \n",
    "    elif len(set(arr2)) == 1:\n",
    "        if arr2[0] == 0:\n",
    "            return None\n",
    "        else:\n",
    "            cosin = 1 - ((np.dot(arr1, arr2))/((np.linalg.norm(arr1)) * (np.linalg.norm(arr2))))\n",
    "            return cosin\n",
    "    # Высчитываем косинусное расстояние       \n",
    "    else:\n",
    "        cosin = 1 - ((np.dot(arr1, arr2))/((np.linalg.norm(arr1)) * (np.linalg.norm(arr2))))\n",
    "        return cosin\n",
    "    # КОНЕЦ ВАШЕГО РЕШЕНИЯ"
   ]
  },
  {
   "cell_type": "code",
   "execution_count": 9,
   "metadata": {
    "deletable": false,
    "editable": false,
    "nbgrader": {
     "cell_type": "code",
     "checksum": "8bde3d57e7a60048efa92302d81245f9",
     "grade": true,
     "grade_id": "cosine_distance_test",
     "locked": true,
     "points": 1,
     "schema_version": 3,
     "solution": false,
     "task": false
    },
    "tags": []
   },
   "outputs": [],
   "source": [
    "assert np.isclose(cosine_distance(np.array([1, 2, 3]), np.array([4, 5, 6])), 0.025368153802923787)\n",
    "assert cosine_distance(np.array([1, 2, 3]), np.array([4, 5])) is None\n",
    "assert cosine_distance(np.array([1, 2, 3]), np.array([])) is None\n",
    "assert np.isclose(cosine_distance(np.array([0, 1, 0, 1]), np.array([1, 0, 1, 0])), 1.0)\n",
    "assert np.isclose(cosine_distance(np.array([1, 0, 1]), np.array([-1, 0, -1])), 2.0)\n",
    "assert np.isclose(cosine_distance(np.array([3, 4]), np.array([6, 8])), 0.0)\n",
    "assert cosine_distance(np.array([]), np.array([1, 2, 3])) is None\n",
    "assert cosine_distance(np.array([]), np.array([])) is None\n",
    "assert cosine_distance(np.array([1, 2, 3]), np.array([0, 0, 0])) is None\n",
    "assert cosine_distance(np.array([0, 0, 0]), np.array([1, 2, 3])) is None"
   ]
  },
  {
   "attachments": {},
   "cell_type": "markdown",
   "metadata": {
    "deletable": false,
    "editable": false,
    "nbgrader": {
     "cell_type": "markdown",
     "checksum": "5e9911a0731b83b7996645cd6a098f5b",
     "grade": false,
     "grade_id": "cell-7f3c2292ajtt",
     "locked": true,
     "schema_version": 3,
     "solution": false,
     "task": false
    },
    "tags": []
   },
   "source": [
    "# Задания на матрицы"
   ]
  },
  {
   "attachments": {},
   "cell_type": "markdown",
   "metadata": {
    "deletable": false,
    "editable": false,
    "nbgrader": {
     "cell_type": "markdown",
     "checksum": "b6529111a5c43445d462ad81a2a7b5ec",
     "grade": false,
     "grade_id": "cell-938593c4a21sf5c6cc",
     "locked": true,
     "schema_version": 3,
     "solution": false,
     "task": false
    },
    "tags": []
   },
   "source": [
    "---\n",
    "## Задание 5 (1 балл)\n",
    "\n",
    "Напишите функцию, которая на вход принимает два np.array массива чисел и производит их поэлементное сложение с помощью numpy. Если размеры матриц не совпадают или массивы пустые (не содержат элементов), вернуть None"
   ]
  },
  {
   "cell_type": "code",
   "execution_count": 10,
   "metadata": {
    "deletable": false,
    "nbgrader": {
     "cell_type": "code",
     "checksum": "c6d03b15046c6b602b28a15ea4d0dc03",
     "grade": false,
     "grade_id": "add_arrays",
     "locked": false,
     "schema_version": 3,
     "solution": true,
     "task": false
    },
    "tags": []
   },
   "outputs": [],
   "source": [
    "def is_empty(arr):\n",
    "\n",
    "    return arr.size == 0\n",
    "\n",
    "\n",
    "\n",
    "def add_arrays(arr1, arr2):\n",
    "\n",
    "    # НАЧАЛО ВАШЕГО РЕШЕНИЯ\n",
    "\n",
    "    if arr1.size != arr2.size:\n",
    "        return None\n",
    "    elif arr1.size == 0 or arr2.size == 0:\n",
    "        return None\n",
    "    else:\n",
    "        arr_sum = arr1 + arr2\n",
    "        return arr_sum\n",
    "\n",
    "\n",
    "\n",
    "    # КОНЕЦ ВАШЕГО РЕШЕНИЯ"
   ]
  },
  {
   "cell_type": "code",
   "execution_count": 11,
   "metadata": {
    "deletable": false,
    "editable": false,
    "nbgrader": {
     "cell_type": "code",
     "checksum": "5dba2d7d3597e7f430351d674d86deb9",
     "grade": true,
     "grade_id": "add_arrays_test",
     "locked": true,
     "points": 1,
     "schema_version": 3,
     "solution": false,
     "task": false
    },
    "tags": []
   },
   "outputs": [],
   "source": [
    "arr1 = np.array([1, 2, 3])\n",
    "arr2 = np.array([4, 5, 6])\n",
    "assert np.array_equal(add_arrays(arr1, arr2), np.array([5, 7, 9]))\n",
    "\n",
    "arr1 = np.array([1, 2, 3])\n",
    "arr2 = np.array([])\n",
    "assert add_arrays(arr1, arr2) is None\n",
    "\n",
    "arr1 = np.array([1.1, 2.2, 3.3])\n",
    "arr2 = np.array([4.4, 5.5, 6.6])\n",
    "assert np.allclose(add_arrays(arr1, arr2), np.array([5.5, 7.7, 9.9]))\n",
    "\n",
    "arr1 = np.array([1, 2, 3])\n",
    "arr2 = np.array([4, 5, 6])\n",
    "assert np.array_equal(add_arrays(arr1, arr2), add_arrays(arr2, arr1))\n",
    "\n",
    "arr1 = np.array([1, 2, 3])\n",
    "arr2 = np.array([4, 5, 6])\n",
    "arr3 = np.array([7, 8, 9])\n",
    "assert np.array_equal(add_arrays(add_arrays(arr1, arr2), arr3), add_arrays(arr1, add_arrays(arr2, arr3)))\n",
    "\n",
    "arr1 = np.array([1, 2, 3])\n",
    "arr2 = np.array([4, 5, 6])\n",
    "assert np.array_equal(add_arrays(arr1, arr2), add_arrays(arr1, arr2))\n",
    "\n",
    "arr1 = np.array([])\n",
    "arr2 = np.array([1, 2, 3])\n",
    "assert add_arrays(arr1, arr2) is None\n",
    "\n",
    "arr1 = np.array([])\n",
    "arr2 = np.array([[], []])\n",
    "assert add_arrays(arr1, arr2) is None\n",
    "\n",
    "arr1 = np.random.rand(1000)\n",
    "arr2 = np.random.rand(1000)\n",
    "assert np.allclose(add_arrays(arr1, arr2), arr1 + arr2)"
   ]
  },
  {
   "attachments": {},
   "cell_type": "markdown",
   "metadata": {
    "deletable": false,
    "editable": false,
    "nbgrader": {
     "cell_type": "markdown",
     "checksum": "cb03a2b215ff340defe0202e3b9b2d27",
     "grade": false,
     "grade_id": "cell-938593cdds5c6cc",
     "locked": true,
     "schema_version": 3,
     "solution": false,
     "task": false
    },
    "tags": []
   },
   "source": [
    "---\n",
    "## Задание 6 (1 балл)\n",
    "\n",
    "Напишите функцию, которая на вход принимает два np.array массива чисел и производит их умножение с помощью numpy. Должны соблюдаться правила произведения матриц. Если правила не соблюдаются, функция должна вернуть None"
   ]
  },
  {
   "cell_type": "code",
   "execution_count": 12,
   "metadata": {
    "deletable": false,
    "nbgrader": {
     "cell_type": "code",
     "checksum": "2bfae1b23733c83652e10cb03cf8eb13",
     "grade": false,
     "grade_id": "matrix_multiply",
     "locked": false,
     "schema_version": 3,
     "solution": true,
     "task": false
    },
    "tags": []
   },
   "outputs": [],
   "source": [
    "import numpy as np\n",
    "\n",
    "def matrix_multiply(a, b):\n",
    "\n",
    "    # НАЧАЛО ВАШЕГО РЕШЕНИЯ\n",
    "    \n",
    "    # Никак не мог понять как сделать в а4 и b4, выдавало ошибку\n",
    "    # После пришла идея сделать из a4 = np.array([1, 2, 3]) a4 = np.array([[1, 2, 3]])\n",
    "    # Т.е. доавил квадратные скобки для удобства\n",
    "    a = a * [[1]]\n",
    "    b = b * [[1]]\n",
    "    \n",
    "    if len(a[0]) == b.shape[0]:\n",
    "        dot_product = np.dot(a, b)\n",
    "        return dot_product\n",
    "    else:\n",
    "        return None\n",
    "\n",
    "    # КОНЕЦ ВАШЕГО РЕШЕНИЯ"
   ]
  },
  {
   "cell_type": "code",
   "execution_count": 13,
   "metadata": {},
   "outputs": [
    {
     "data": {
      "text/plain": [
       "2"
      ]
     },
     "execution_count": 13,
     "metadata": {},
     "output_type": "execute_result"
    }
   ],
   "source": [
    "a2 = np.array([\n",
    "    [1, 2, 3], \n",
    "    [4, 5, 6]\n",
    "    ])\n",
    "b2 = np.array([\n",
    "    [7, 8], \n",
    "    [9, 10], \n",
    "    [11, 12]\n",
    "    ])\n",
    "\n",
    "\n",
    "a2.shape[0]"
   ]
  },
  {
   "cell_type": "code",
   "execution_count": 14,
   "metadata": {
    "deletable": false,
    "editable": false,
    "nbgrader": {
     "cell_type": "code",
     "checksum": "9014568ecf3a716cc12b6a25fde67faa",
     "grade": true,
     "grade_id": "matrix_multiply_test",
     "locked": true,
     "points": 1,
     "schema_version": 3,
     "solution": false,
     "task": false
    },
    "tags": []
   },
   "outputs": [],
   "source": [
    "a1 = np.array([[1, 2], [3, 4]])\n",
    "b1 = np.array([[5, 6], [7, 8]])\n",
    "c1 = np.array([[19, 22], [43, 50]])\n",
    "assert np.array_equal(matrix_multiply(a1, b1), c1)\n",
    "\n",
    "a2 = np.array([[1, 2, 3], [4, 5, 6]])\n",
    "b2 = np.array([[7, 8], [9, 10], [11, 12]])\n",
    "c2 = np.array([[58, 64], [139, 154]])\n",
    "assert np.array_equal(matrix_multiply(a2, b2), c2)\n",
    "\n",
    "a3 = np.array([[1, 2, 3], [4, 5, 6]])\n",
    "b3 = np.array([[7, 8], [9, 10]])\n",
    "assert matrix_multiply(a3, b3) is None\n",
    "\n",
    "a4 = np.array([1, 2, 3])\n",
    "b4 = np.array([4, 5, 6])\n",
    "assert matrix_multiply(a4, b4) is None\n",
    "\n",
    "a5 = np.array([[1, 2], [3, 4]])\n",
    "b5 = np.array([[5], [6]])\n",
    "c5 = np.array([[17], [39]])\n",
    "assert np.array_equal(matrix_multiply(a5, b5), c5)\n",
    "\n",
    "a6 = np.array([[1, 2, 3]])\n",
    "b6 = np.array([[4], [5], [6]])\n",
    "c6 = np.array([[32]])\n",
    "assert np.array_equal(matrix_multiply(a6, b6), c6)\n",
    "\n",
    "a7 = np.array([[]])\n",
    "b7 = np.array([[1]])\n",
    "assert matrix_multiply(a7, b7) is None\n",
    "\n",
    "a8 = np.array([[]])\n",
    "b8 = np.array([[]])\n",
    "assert matrix_multiply(a8, b8) is None"
   ]
  },
  {
   "attachments": {},
   "cell_type": "markdown",
   "metadata": {
    "deletable": false,
    "editable": false,
    "nbgrader": {
     "cell_type": "markdown",
     "checksum": "ca4322cdd7df8462b1548fda749ba721",
     "grade": false,
     "grade_id": "cell-938593cddehc",
     "locked": true,
     "schema_version": 3,
     "solution": false,
     "task": false
    },
    "tags": []
   },
   "source": [
    "---\n",
    "## Задание 7 (1 балл)\n",
    "\n",
    "Напишите функцию, которая на вход принимает np.array массив чисел и вычисляет определитель с помощью numpy. Если матрица не квадратная, функция должна вернуть None"
   ]
  },
  {
   "cell_type": "code",
   "execution_count": 15,
   "metadata": {
    "deletable": false,
    "nbgrader": {
     "cell_type": "code",
     "checksum": "5d1035f4f5de9c9f956df19fa6d76d82",
     "grade": false,
     "grade_id": "determinant",
     "locked": false,
     "schema_version": 3,
     "solution": true,
     "task": false
    },
    "tags": []
   },
   "outputs": [],
   "source": [
    "def determinant(arr):\n",
    " \n",
    "    # НАЧАЛО ВАШЕГО РЕШЕНИЯ\n",
    "    shape_arr = arr.shape\n",
    "    transpose_arr = arr.transpose()\n",
    "    shape_arr2 = transpose_arr.shape\n",
    "    if shape_arr != shape_arr2:\n",
    "        return None\n",
    "    elif len(arr) == 0:\n",
    "        return None \n",
    "    else:\n",
    "        det_arr = np.linalg.det(arr)\n",
    "        return det_arr\n",
    "    # КОНЕЦ ВАШЕГО РЕШЕНИЯ"
   ]
  },
  {
   "cell_type": "code",
   "execution_count": 16,
   "metadata": {
    "deletable": false,
    "editable": false,
    "nbgrader": {
     "cell_type": "code",
     "checksum": "a0d3c22f0a1c8dddfecfad53bf255ef6",
     "grade": true,
     "grade_id": "determinant_test",
     "locked": true,
     "points": 1,
     "schema_version": 3,
     "solution": false,
     "task": false
    },
    "tags": []
   },
   "outputs": [],
   "source": [
    "arr1 = np.array([[1, 2], [3, 4]])\n",
    "assert np.isclose(determinant(arr1), -2)\n",
    "\n",
    "arr2 = np.array([[1, 2, 3, 4], [5, 6, 7, 8], [9, 10, 11, 12]])\n",
    "assert determinant(arr2) == None\n",
    "\n",
    "arr3 = np.array([[1]])\n",
    "assert np.isclose(determinant(arr3), 1)\n",
    "\n",
    "arr2 = np.array([[1, 0, 0], [0, 1, 0], [0, 0, 1]])\n",
    "assert np.isclose(determinant(arr2), 1)\n",
    "\n",
    "arr3 = np.array([[1, 2, 3], [4, 5, 6], [7, 8, 9]])\n",
    "assert np.isclose(determinant(arr3), 0)\n",
    "\n",
    "arr5 = np.array([[1, 0], [0, 1], [0, 0]])\n",
    "assert determinant(arr5) == None\n",
    "\n",
    "arr6 = np.array([])\n",
    "assert determinant(arr6) == None\n",
    "\n",
    "arr8 = np.array([[1, 2], [3, 4], [5, 6]])\n",
    "assert determinant(arr8) == None\n",
    "\n",
    "arr9 = np.array([[1, 2, 3], [4, 5, 6]])\n",
    "assert determinant(arr9) == None\n",
    "\n",
    "arr10 = np.array([[1, 2], [3, 4], [5, 6]])\n",
    "assert determinant(arr10) == None"
   ]
  },
  {
   "attachments": {},
   "cell_type": "markdown",
   "metadata": {
    "deletable": false,
    "editable": false,
    "nbgrader": {
     "cell_type": "markdown",
     "checksum": "e38c479458994c5c88839a004890990f",
     "grade": false,
     "grade_id": "cell-7d9f5sghj6f2b",
     "locked": true,
     "schema_version": 3,
     "solution": false,
     "task": false
    },
    "tags": []
   },
   "source": [
    "# Задание на производные"
   ]
  },
  {
   "attachments": {},
   "cell_type": "markdown",
   "metadata": {
    "deletable": false,
    "editable": false,
    "nbgrader": {
     "cell_type": "markdown",
     "checksum": "cb6dfb141981b65e84a2bbda71416dec",
     "grade": false,
     "grade_id": "cell-9385sgj15c6cc",
     "locked": true,
     "schema_version": 3,
     "solution": false,
     "task": false
    },
    "tags": []
   },
   "source": [
    "---\n",
    "## Задание 8 (1 балл)\n",
    "\n",
    "Напишите функция для вычисления производной функции $\\frac{7x^3}{3} - \\frac{5x^2}{2}$ в точке x. Функция должна возврвращать переменную df_dx"
   ]
  },
  {
   "cell_type": "markdown",
   "metadata": {},
   "source": [
    "С этим заданием возникли сложности, код получается запускать вне функции, производная считается, а вот как обернть это в функцию у меня вопрос. Пробовал по всякому, но не вышло."
   ]
  },
  {
   "cell_type": "code",
   "execution_count": 17,
   "metadata": {},
   "outputs": [],
   "source": [
    "dy_dx = 0\n",
    "def calculate_dderivative(x: float):\n",
    "\n",
    "    # НАЧАЛО ВАШЕГО РЕШЕНИЯ\n",
    "    x = sp.Symbol('x')\n",
    "    \n",
    "    y = ((7*(x**3))/(3)) - ((5*(x**2))/(2))\n",
    "\n",
    "    dy_dx = y.diff(x)\n",
    "    \n",
    "    # КОНЕЦ ВАШЕГО РЕШЕНИЯ\n",
    "    return dy_dx"
   ]
  },
  {
   "cell_type": "code",
   "execution_count": 19,
   "metadata": {
    "deletable": false,
    "editable": false,
    "nbgrader": {
     "cell_type": "code",
     "checksum": "bbc90f792bc887f6a76f58ff27b4bdd4",
     "grade": true,
     "grade_id": "calculate_dderivative_test",
     "locked": true,
     "points": 1,
     "schema_version": 3,
     "solution": false,
     "task": false
    },
    "tags": []
   },
   "outputs": [
    {
     "ename": "TypeError",
     "evalue": "ufunc 'isfinite' not supported for the input types, and the inputs could not be safely coerced to any supported types according to the casting rule ''safe''",
     "output_type": "error",
     "traceback": [
      "\u001b[1;31m---------------------------------------------------------------------------\u001b[0m",
      "\u001b[1;31mTypeError\u001b[0m                                 Traceback (most recent call last)",
      "Cell \u001b[1;32mIn[19], line 1\u001b[0m\n\u001b[1;32m----> 1\u001b[0m \u001b[39massert\u001b[39;00m np\u001b[39m.\u001b[39;49misclose(calculate_dderivative(\u001b[39m0\u001b[39;49m), \u001b[39m0\u001b[39;49m, atol\u001b[39m=\u001b[39;49m\u001b[39m0.1\u001b[39;49m)\n\u001b[0;32m      2\u001b[0m \u001b[39massert\u001b[39;00m np\u001b[39m.\u001b[39misclose(calculate_dderivative(\u001b[39m1\u001b[39m), \u001b[39m2\u001b[39m, atol\u001b[39m=\u001b[39m\u001b[39m0.1\u001b[39m)\n\u001b[0;32m      3\u001b[0m \u001b[39massert\u001b[39;00m np\u001b[39m.\u001b[39misclose(calculate_dderivative(\u001b[39m2\u001b[39m), \u001b[39m18\u001b[39m, atol\u001b[39m=\u001b[39m\u001b[39m0.1\u001b[39m)\n",
      "File \u001b[1;32m<__array_function__ internals>:200\u001b[0m, in \u001b[0;36misclose\u001b[1;34m(*args, **kwargs)\u001b[0m\n",
      "File \u001b[1;32mc:\\Users\\Slava\\AppData\\Local\\Programs\\Python\\Python311\\Lib\\site-packages\\numpy\\core\\numeric.py:2377\u001b[0m, in \u001b[0;36misclose\u001b[1;34m(a, b, rtol, atol, equal_nan)\u001b[0m\n\u001b[0;32m   2374\u001b[0m     dt \u001b[39m=\u001b[39m multiarray\u001b[39m.\u001b[39mresult_type(y, \u001b[39m1.\u001b[39m)\n\u001b[0;32m   2375\u001b[0m     y \u001b[39m=\u001b[39m asanyarray(y, dtype\u001b[39m=\u001b[39mdt)\n\u001b[1;32m-> 2377\u001b[0m xfin \u001b[39m=\u001b[39m isfinite(x)\n\u001b[0;32m   2378\u001b[0m yfin \u001b[39m=\u001b[39m isfinite(y)\n\u001b[0;32m   2379\u001b[0m \u001b[39mif\u001b[39;00m \u001b[39mall\u001b[39m(xfin) \u001b[39mand\u001b[39;00m \u001b[39mall\u001b[39m(yfin):\n",
      "\u001b[1;31mTypeError\u001b[0m: ufunc 'isfinite' not supported for the input types, and the inputs could not be safely coerced to any supported types according to the casting rule ''safe''"
     ]
    }
   ],
   "source": [
    "assert np.isclose(calculate_dderivative(0), 0, atol=0.1)\n",
    "assert np.isclose(calculate_dderivative(1), 2, atol=0.1)\n",
    "assert np.isclose(calculate_dderivative(2), 18, atol=0.1)\n",
    "assert np.isclose(calculate_dderivative(3), 48, atol=0.1)\n",
    "assert np.isclose(calculate_dderivative(5), 150, atol=0.1)"
   ]
  }
 ],
 "metadata": {
  "kernelspec": {
   "display_name": "Python 3 (ipykernel)",
   "language": "python",
   "name": "python3"
  },
  "language_info": {
   "codemirror_mode": {
    "name": "ipython",
    "version": 3
   },
   "file_extension": ".py",
   "mimetype": "text/x-python",
   "name": "python",
   "nbconvert_exporter": "python",
   "pygments_lexer": "ipython3",
   "version": "3.11.3"
  }
 },
 "nbformat": 4,
 "nbformat_minor": 4
}
