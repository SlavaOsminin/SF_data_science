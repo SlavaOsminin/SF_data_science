{
 "cells": [
  {
   "cell_type": "code",
   "execution_count": 49,
   "metadata": {},
   "outputs": [
    {
     "name": "stdout",
     "output_type": "stream",
     "text": [
      "(3,)\n",
      "(3,)\n",
      "[array([1, 2, 3])]\n"
     ]
    },
    {
     "data": {
      "text/plain": [
       "1"
      ]
     },
     "execution_count": 49,
     "metadata": {},
     "output_type": "execute_result"
    }
   ],
   "source": [
    "import numpy as np\n",
    "\n",
    "a3 = np.array([1, 2, 3])\n",
    "b3 = np.array([4, 2, 1])\n",
    "\n",
    "a3_shape = a3.shape\n",
    "\n",
    "\n",
    "transpose_a3 = a3.transpose()\n",
    "\n",
    "a3_shape_transpose = transpose_a3.shape\n",
    "\n",
    "dot_product = np.dot(a3, b3)\n",
    "\n",
    "transpose_aa3 = [transpose_a3]\n",
    "\n",
    "print(a3_shape)\n",
    "print(a3_shape_transpose)\n",
    "print(transpose_aa3)\n",
    "\n",
    "dot_product\n",
    "\n",
    "len(a3_shape)"
   ]
  },
  {
   "cell_type": "code",
   "execution_count": 52,
   "metadata": {},
   "outputs": [
    {
     "data": {
      "text/plain": [
       "2"
      ]
     },
     "execution_count": 52,
     "metadata": {},
     "output_type": "execute_result"
    }
   ],
   "source": [
    "b2 = np.array([[7, 8], [9, 10], [11, 12]])\n",
    "len(b2[0])"
   ]
  },
  {
   "cell_type": "code",
   "execution_count": 62,
   "metadata": {},
   "outputs": [
    {
     "data": {
      "text/plain": [
       "array([[1, 2, 3]])"
      ]
     },
     "execution_count": 62,
     "metadata": {},
     "output_type": "execute_result"
    }
   ],
   "source": [
    "a4 = np.array([1, 2, 3])\n",
    "b4 = np.array([4, 5, 6])\n",
    "\n",
    "a = a4 * [[1]]\n",
    "a\n"
   ]
  },
  {
   "cell_type": "code",
   "execution_count": 72,
   "metadata": {},
   "outputs": [
    {
     "name": "stdout",
     "output_type": "stream",
     "text": [
      "2\n",
      "3\n"
     ]
    },
    {
     "data": {
      "text/plain": [
       "array([[ 7,  8],\n",
       "       [ 9, 10],\n",
       "       [11, 12]])"
      ]
     },
     "execution_count": 72,
     "metadata": {},
     "output_type": "execute_result"
    }
   ],
   "source": [
    "a2 = np.array([[1, 2, 3], [4, 5, 6]])\n",
    "b2 = np.array([[7, 8], [9, 10], [11, 12]])\n",
    "\n",
    "b22 = b2 * [[1]]\n",
    "\n",
    "print(len(b22[0]))\n",
    "\n",
    "print(b22.shape[0])\n",
    "\n",
    "b22"
   ]
  },
  {
   "cell_type": "code",
   "execution_count": 84,
   "metadata": {},
   "outputs": [
    {
     "data": {
      "text/latex": [
       "$\\displaystyle 18$"
      ],
      "text/plain": [
       "18"
      ]
     },
     "execution_count": 84,
     "metadata": {},
     "output_type": "execute_result"
    }
   ],
   "source": [
    "import numpy as np\n",
    "import sympy as sp\n",
    "import scipy.spatial.distance as ds\n",
    "\n",
    "x0 = 2\n",
    "\n",
    "x = sp.Symbol('x')\n",
    "\n",
    "y = ((7*(x**3))/(3)) - ((5*(x**2))/(2))\n",
    "\n",
    "dy_dx = y.diff(x)\n",
    "\n",
    "dy_dx\n",
    "\n",
    "dy_dx_value = dy_dx.subs(x, x0)\n",
    "\n",
    "dy_dx_value"
   ]
  }
 ],
 "metadata": {
  "kernelspec": {
   "display_name": "Python 3",
   "language": "python",
   "name": "python3"
  },
  "language_info": {
   "codemirror_mode": {
    "name": "ipython",
    "version": 3
   },
   "file_extension": ".py",
   "mimetype": "text/x-python",
   "name": "python",
   "nbconvert_exporter": "python",
   "pygments_lexer": "ipython3",
   "version": "3.11.3"
  },
  "orig_nbformat": 4
 },
 "nbformat": 4,
 "nbformat_minor": 2
}
